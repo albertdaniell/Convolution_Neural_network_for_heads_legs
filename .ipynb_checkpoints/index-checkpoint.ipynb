{
 "cells": [
  {
   "cell_type": "code",
   "execution_count": 7,
   "metadata": {},
   "outputs": [],
   "source": [
    "import cv2\n",
    "from pathlib import Path\n",
    "import glob\n",
    "import matplotlib.pyplot as plt\n",
    "import numpy as np\n",
    "import csv\n",
    "import matplotlib.pyplot as plt\n",
    "from PIL import Image"
   ]
  },
  {
   "cell_type": "code",
   "execution_count": 29,
   "metadata": {},
   "outputs": [
    {
     "data": {
      "image/png": "[encoded data removed]",
      "text/plain": [
       "<Figure size 432x288 with 1 Axes>"
      ]
     },
     "metadata": {
      "needs_background": "light"
     },
     "output_type": "display_data"
    }
   ],
   "source": [
    "legpath=Path(\"./legs\")\n",
    "headpath=Path(\".head\")\n",
    "legs=[]\n",
    "heads=[]\n",
    "\n",
    "im = Image.open(\"legs/1.jpg\")\n",
    "resized_im=im.resize((28,28)).convert('L')\n",
    "plt.imshow(np.array(resized_im))\n",
    "plt.show()\n",
    "#print(np.array(resized_im))\n",
    "\n",
    "def myLegs():\n",
    "    for leg in glob.glob(\"legs/*.jpg\"):\n",
    "        #img = Image.open(leg)\n",
    "        img=cv2.imread(str(leg))\n",
    "        img=cv2.cvtColor(img,cv2.COLOR_BGR2GRAY)\n",
    "        #img=img.resize((28,28)).convert('L')\n",
    "        csv_format_img=[img, 'leg']\n",
    "        legs.append(csv_format_img)\n",
    "\n",
    "        \n",
    "def myLegs2():\n",
    "    for leg in glob.glob(\"legs/*.jpg\"):\n",
    "        img = Image.open(leg)\n",
    "        print(leg)\n",
    "#         img=cv2.imread(str(leg))\n",
    "#         img=cv2.cvtColor(img,cv2.COLOR_BGR2GRAY)\n",
    "#         #img=img.resize((28,28)).convert('L')\n",
    "#         csv_format_img=[img, 'leg']\n",
    "#         legs.append(csv_format_img)\n",
    "    \n",
    "\n",
    "#print(legs[0])\n",
    "#plt.imshow(np.array(legs[0]))\n",
    "#plt.show()\n",
    "#print(np.array(resized_im))\n",
    "\n",
    "    \n"
   ]
  },
  {
   "cell_type": "code",
   "execution_count": null,
   "metadata": {},
   "outputs": [],
   "source": []
  }
 ],
 "metadata": {
  "kernelspec": {
   "display_name": "Python 3",
   "language": "python",
   "name": "python3"
  },
  "language_info": {
   "codemirror_mode": {
    "name": "ipython",
    "version": 3
   },
   "file_extension": ".py",
   "mimetype": "text/x-python",
   "name": "python",
   "nbconvert_exporter": "python",
   "pygments_lexer": "ipython3",
   "version": "3.7.6"
  }
 },
 "nbformat": 4,
 "nbformat_minor": 4
}
