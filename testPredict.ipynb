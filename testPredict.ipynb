{
 "cells": [
  {
   "cell_type": "code",
   "execution_count": 41,
   "id": "north-status",
   "metadata": {},
   "outputs": [],
   "source": [
    "\n",
    "import glob\n",
    "import numpy as np\n",
    "import csv\n",
    "import matplotlib.pyplot as plt\n",
    "from PIL import Image\n",
    "from tensorflow import keras\n",
    "import tensorflow as tf\n"
   ]
  },
  {
   "cell_type": "code",
   "execution_count": 42,
   "id": "impressed-cologne",
   "metadata": {},
   "outputs": [],
   "source": [
    "legpath=Path(\"./legs\")\n",
    "headpath=Path(\".head\")\n",
    "\n",
    "imagesToPredict=[]\n",
    "imagesToPredictLabels=[]\n",
    "                \n",
    "\n",
    "def imagesToPredictFn():\n",
    "    for head in glob.glob(\"head/toPredict/*.jpg\"):\n",
    "        img = Image.open(str(head))\n",
    "        resized_im=img.resize((32,32)).convert('RGB')\n",
    "        convert_np=np.array(resized_im)\n",
    "        csv_format_img=[convert_np, '1']\n",
    "        imagesToPredictLabels.append(1)\n",
    "        imagesToPredict.append(np.array(convert_np))\n",
    "        \n",
    "        #plt.imshow(np.array(convert_np))\n",
    "        #plt.show()\n",
    "    \n",
    "\n",
    "imagesToPredictFn()\n",
    "\n",
    "\n",
    "imagesToPredict= (np.array(imagesToPredict,dtype='uint8'))\n",
    "imagesToPredictLabels= (np.array(imagesToPredictLabels,dtype='uint8'))\n",
    "\n",
    "class_names=[\"leg\",\"head\"]"
   ]
  },
  {
   "cell_type": "code",
   "execution_count": 43,
   "id": "photographic-independence",
   "metadata": {},
   "outputs": [],
   "source": [
    "model = keras.models.load_model('my_model.h5')\n"
   ]
  },
  {
   "cell_type": "code",
   "execution_count": 44,
   "id": "quantitative-heath",
   "metadata": {},
   "outputs": [
    {
     "name": "stdout",
     "output_type": "stream",
     "text": [
      "WARNING:tensorflow:5 out of the last 7 calls to <function Model.make_predict_function.<locals>.predict_function at 0x7f33780ce9d0> triggered tf.function retracing. Tracing is expensive and the excessive number of tracings could be due to (1) creating @tf.function repeatedly in a loop, (2) passing tensors with different shapes, (3) passing Python objects instead of tensors. For (1), please define your @tf.function outside of the loop. For (2), @tf.function has experimental_relax_shapes=True option that relaxes argument shapes that can avoid unnecessary retracing. For (3), please refer to https://www.tensorflow.org/guide/function#controlling_retracing and https://www.tensorflow.org/api_docs/python/tf/function for  more details.\n"
     ]
    }
   ],
   "source": [
    "prediction=model.predict(imagesToPredict)\n"
   ]
  },
  {
   "cell_type": "code",
   "execution_count": 49,
   "id": "accomplished-worker",
   "metadata": {},
   "outputs": [
    {
     "data": {
      "text/plain": [
       "'head'"
      ]
     },
     "execution_count": 49,
     "metadata": {},
     "output_type": "execute_result"
    }
   ],
   "source": [
    "class_names[np.argmax(prediction[2])]"
   ]
  }
 ],
 "metadata": {
  "kernelspec": {
   "display_name": "Python 3",
   "language": "python",
   "name": "python3"
  },
  "language_info": {
   "codemirror_mode": {
    "name": "ipython",
    "version": 3
   },
   "file_extension": ".py",
   "mimetype": "text/x-python",
   "name": "python",
   "nbconvert_exporter": "python",
   "pygments_lexer": "ipython3",
   "version": "3.8.5"
  }
 },
 "nbformat": 4,
 "nbformat_minor": 5
}
